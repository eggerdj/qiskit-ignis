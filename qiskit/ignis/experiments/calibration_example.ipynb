{
 "cells": [
  {
   "cell_type": "code",
   "execution_count": 1,
   "metadata": {},
   "outputs": [],
   "source": [
    "%load_ext autoreload\n",
    "%autoreload 2"
   ]
  },
  {
   "cell_type": "code",
   "execution_count": 2,
   "metadata": {},
   "outputs": [],
   "source": [
    "import qiskit\n",
    "from qiskit.test.mock import FakeAthens\n",
    "from qiskit.ignis.experiments.calibration import mock\n",
    "\n",
    "fake_backend = FakeAthens()"
   ]
  },
  {
   "cell_type": "markdown",
   "metadata": {},
   "source": [
    "## Model\n",
    "\n",
    "Basis gate can be further lowered into instructions. For example:\n",
    "\n",
    "$$\n",
    "U2(\\phi, \\lambda) = RZ(\\phi).RY(\\frac{\\pi}{2}).RZ(\\lambda)\n",
    "$$\n",
    "\n",
    "In context of calibration, we need to prepare database with these atomic instructions. In what follows, this database is called _calibration table_ or just _table_.\n",
    "This table is quite similar to the `InstructionScheduleMap` of qiskit-terra, but have additional functionalities for calibration.\n",
    "With the generator model in the experimental framework, we don't need to prepare entry for composite gate. Any composite instruction can be constructed by the generator $G$ if the generator knows the name of all underlying atomic instructions. Arbitrary schedule can be constructed by acquiring atomic instruction data from the table $T$. For example:\n",
    "\n",
    "$$\n",
    "G(\\{ U_{90+, 0}, U_{90+, 1}, U_{90-, 0}, U_{90-, 1}, X_{0} \\}) \\longrightarrow {\\rm CR_{10}}, \\hspace{2mm} {\\rm where~.e.g.} \\hspace{5mm} T({\\rm u90p, 0}) = U_{90+,0}\n",
    "$$\n",
    "\n",
    "So we need to feed calibration table into a generator, and the generator internally assembles required pulse sequence. If an entry in the table is parametrized, generated sequence will be also paramerterized.\n",
    "\n",
    "Finally, we can construct basis gates with the complete calibration table. This requires system information such as relationship of channel frames.\n",
    "\n",
    "$$\n",
    "{\\rm calibration~table~} T \\longrightarrow \\{\\rm basis~gate\\}\n",
    "$$"
   ]
  },
  {
   "cell_type": "markdown",
   "metadata": {},
   "source": [
    "## 1. Loading calibration table"
   ]
  },
  {
   "cell_type": "markdown",
   "metadata": {},
   "source": [
    "Load calibration table from server. This is just a mock:"
   ]
  },
  {
   "cell_type": "code",
   "execution_count": 3,
   "metadata": {},
   "outputs": [],
   "source": [
    "cal_db = mock.FakeDatabase(backend_name=fake_backend.name(), num_qubits=fake_backend.configuration().n_qubits)"
   ]
  },
  {
   "cell_type": "code",
   "execution_count": 4,
   "metadata": {},
   "outputs": [
    {
     "data": {
      "text/plain": [
       "{'duration': 160, 'amp': 0, 'sigma': 40, 'beta': 0}"
      ]
     },
     "execution_count": 4,
     "metadata": {},
     "output_type": "execute_result"
    }
   ],
   "source": [
    "table = cal_db.load_calibrations()\n",
    "table.get_properties('x90p', qubits=[0])"
   ]
  },
  {
   "cell_type": "markdown",
   "metadata": {},
   "source": [
    "Once this table is provided, we can write calibration circuit with query like access to underlying gates:\n",
    "\n",
    "---\n",
    "```python\n",
    "def ramsey_xy(\n",
    "        name: str,\n",
    "        table: cal_table.CalibrationDataTable,\n",
    "        target_qubits: List[int],\n",
    "        meas_basis: Optional[str] = 'z') -> types.CalProg:\n",
    "    \"\"\"Generate Ramsey circuit.\"\"\"\n",
    "    if len(target_qubits) != 1:\n",
    "        raise CalExpError(\n",
    "            'Invalid number of qubits = {} is specified.'\n",
    "            'This experiment requires 1 qubit.'.format(len(target_qubits)))\n",
    "\n",
    "    delay_param = circuit.Parameter('delay')\n",
    "\n",
    "    with cal_builder.build(name=name,\n",
    "                           qubits=target_qubits,\n",
    "                           table=table,\n",
    "                           meas_basis=meas_basis) as circ_x:\n",
    "        cal_builder.atomic_gate(name=Insts.X90P.value, qubits=target_qubits)\n",
    "        circ_x.delay(delay_param, unit='ns', qarg=[0])\n",
    "        cal_builder.atomic_gate(name=Insts.X90P.value, qubits=target_qubits)\n",
    "\n",
    "    with cal_builder.build(name=name,\n",
    "                           qubits=target_qubits,\n",
    "                           table=table,\n",
    "                           meas_basis=meas_basis) as circ_y:\n",
    "        cal_builder.atomic_gate(name=Insts.X90P.value, qubits=target_qubits)\n",
    "        circ_y.delay(delay_param, unit='ns', qarg=[0])\n",
    "        cal_builder.atomic_gate(name=Insts.Y90P.value, qubits=target_qubits)\n",
    "\n",
    "    meta_x = {\n",
    "        'generator': 'ramsey',\n",
    "        'meas_basis': meas_basis,\n",
    "        'quad': 'x'\n",
    "    }\n",
    "    meta_y = {\n",
    "        'generator': 'ramsey',\n",
    "        'meas_basis': meas_basis,\n",
    "        'quad': 'y'\n",
    "    }\n",
    "\n",
    "    return types.CalProg(\n",
    "        circuits=[circ_x, circ_y],\n",
    "        metadata=[meta_x, meta_y]\n",
    "    )\n",
    "```\n",
    "---"
   ]
  },
  {
   "cell_type": "markdown",
   "metadata": {},
   "source": [
    "We can parametrize arbitrary parameter. This retunrs a handler of the parameter. Parameter name is generated based on the corresponding generator argument with the namespace generated by the pulse name and channel."
   ]
  },
  {
   "cell_type": "code",
   "execution_count": 5,
   "metadata": {},
   "outputs": [],
   "source": [
    "parameter = table.parametrize('x90p', qubits=[0], param_name='amp')"
   ]
  },
  {
   "cell_type": "code",
   "execution_count": 6,
   "metadata": {},
   "outputs": [
    {
     "data": {
      "text/plain": [
       "Parameter(x90p.d0.amp)"
      ]
     },
     "execution_count": 6,
     "metadata": {},
     "output_type": "execute_result"
    }
   ],
   "source": [
    "parameter"
   ]
  },
  {
   "cell_type": "markdown",
   "metadata": {},
   "source": [
    "Table can return gate as well. This object can be attached to quantum circuit for calibration."
   ]
  },
  {
   "cell_type": "code",
   "execution_count": 7,
   "metadata": {},
   "outputs": [
    {
     "data": {
      "text/html": [
       "<pre style=\"word-wrap: normal;white-space: pre;background: #fff0;line-height: 1.1;font-family: &quot;Courier New&quot;,Courier,monospace\">     ┌───────────────────┐\n",
       "q_0: ┤ x90p(x90p.d0.amp) ├\n",
       "     └───────────────────┘</pre>"
      ],
      "text/plain": [
       "     ┌───────────────────┐\n",
       "q_0: ┤ x90p(x90p.d0.amp) ├\n",
       "     └───────────────────┘"
      ]
     },
     "execution_count": 7,
     "metadata": {},
     "output_type": "execute_result"
    }
   ],
   "source": [
    "qc = qiskit.QuantumCircuit(1)\n",
    "qc.append(table.get_gate('x90p', qubits=[0]), [0])\n",
    "qc.draw()"
   ]
  },
  {
   "cell_type": "code",
   "execution_count": 8,
   "metadata": {},
   "outputs": [
    {
     "data": {
      "text/plain": [
       "{Parameter(x90p.d0.amp)}"
      ]
     },
     "execution_count": 8,
     "metadata": {},
     "output_type": "execute_result"
    }
   ],
   "source": [
    "qc.parameters"
   ]
  },
  {
   "cell_type": "markdown",
   "metadata": {},
   "source": [
    "We have these atomic instructions for single qubit gates.\n",
    "```python\n",
    "class SingleQubitAtomicPulses(Enum):\n",
    "    \"\"\"Name of single qubit gates.\"\"\"\n",
    "    X90P = 'x90p'\n",
    "    X90M = 'x90m'\n",
    "    Y90P = 'y90p'\n",
    "    Y90M = 'y90m'\n",
    "    XP = 'xp'\n",
    "    XM = 'xm'\n",
    "    YP = 'yp'\n",
    "    YM = 'ym'\n",
    "    STIM = 'stimulus'\n",
    "```"
   ]
  },
  {
   "cell_type": "markdown",
   "metadata": {},
   "source": [
    "## 2. Calibration"
   ]
  },
  {
   "cell_type": "code",
   "execution_count": 9,
   "metadata": {},
   "outputs": [],
   "source": [
    "from qiskit.ignis.experiments.calibration.methods import RoughAmplitudeCalibration\n",
    "\n",
    "import numpy as np"
   ]
  },
  {
   "cell_type": "code",
   "execution_count": 10,
   "metadata": {},
   "outputs": [
    {
     "name": "stdout",
     "output_type": "stream",
     "text": [
      "CPU times: user 46.9 ms, sys: 0 ns, total: 46.9 ms\n",
      "Wall time: 58.4 ms\n"
     ]
    }
   ],
   "source": [
    "%%time\n",
    "experiment = RoughAmplitudeCalibration(\n",
    "    table=table,\n",
    "    qubit=3,\n",
    "    amp_vals=np.linspace(-0.5, 0.5, 31)\n",
    ")"
   ]
  },
  {
   "cell_type": "code",
   "execution_count": 11,
   "metadata": {},
   "outputs": [],
   "source": [
    "cal_circuits = experiment.generator.circuits()"
   ]
  },
  {
   "cell_type": "code",
   "execution_count": 12,
   "metadata": {},
   "outputs": [
    {
     "data": {
      "text/html": [
       "<pre style=\"word-wrap: normal;white-space: pre;background: #fff0;line-height: 1.1;font-family: &quot;Courier New&quot;,Courier,monospace\">     ┌──────────────────────────────┐ ░ ┌─┐\n",
       "q_0: ┤ stimulus(-0.500000000000000) ├─░─┤M├\n",
       "     └──────────────────────────────┘ ░ └╥┘\n",
       "c: 1/════════════════════════════════════╩═\n",
       "                                         0 </pre>"
      ],
      "text/plain": [
       "     ┌──────────────────────────────┐ ░ ┌─┐\n",
       "q_0: ┤ stimulus(-0.500000000000000) ├─░─┤M├\n",
       "     └──────────────────────────────┘ ░ └╥┘\n",
       "c: 1/════════════════════════════════════╩═\n",
       "                                         0 "
      ]
     },
     "execution_count": 12,
     "metadata": {},
     "output_type": "execute_result"
    }
   ],
   "source": [
    "cal_circuits[0].draw()"
   ]
  },
  {
   "cell_type": "code",
   "execution_count": 13,
   "metadata": {},
   "outputs": [
    {
     "data": {
      "text/html": [
       "<pre style=\"word-wrap: normal;white-space: pre;background: #fff0;line-height: 1.1;font-family: &quot;Courier New&quot;,Courier,monospace\">     ┌──────────────────────────────┐ ░ ┌─┐\n",
       "q_0: ┤ stimulus(-0.466666666666667) ├─░─┤M├\n",
       "     └──────────────────────────────┘ ░ └╥┘\n",
       "c: 1/════════════════════════════════════╩═\n",
       "                                         0 </pre>"
      ],
      "text/plain": [
       "     ┌──────────────────────────────┐ ░ ┌─┐\n",
       "q_0: ┤ stimulus(-0.466666666666667) ├─░─┤M├\n",
       "     └──────────────────────────────┘ ░ └╥┘\n",
       "c: 1/════════════════════════════════════╩═\n",
       "                                         0 "
      ]
     },
     "execution_count": 13,
     "metadata": {},
     "output_type": "execute_result"
    }
   ],
   "source": [
    "cal_circuits[1].draw()"
   ]
  },
  {
   "cell_type": "code",
   "execution_count": 14,
   "metadata": {},
   "outputs": [
    {
     "data": {
      "text/html": [
       "<pre style=\"word-wrap: normal;white-space: pre;background: #fff0;line-height: 1.1;font-family: &quot;Courier New&quot;,Courier,monospace\">     ┌─────────────────────────────┐ ░ ┌─┐\n",
       "q_0: ┤ stimulus(0.500000000000000) ├─░─┤M├\n",
       "     └─────────────────────────────┘ ░ └╥┘\n",
       "c: 1/═══════════════════════════════════╩═\n",
       "                                        0 </pre>"
      ],
      "text/plain": [
       "     ┌─────────────────────────────┐ ░ ┌─┐\n",
       "q_0: ┤ stimulus(0.500000000000000) ├─░─┤M├\n",
       "     └─────────────────────────────┘ ░ └╥┘\n",
       "c: 1/═══════════════════════════════════╩═\n",
       "                                        0 "
      ]
     },
     "execution_count": 14,
     "metadata": {},
     "output_type": "execute_result"
    }
   ],
   "source": [
    "cal_circuits[-1].draw()"
   ]
  },
  {
   "cell_type": "code",
   "execution_count": 15,
   "metadata": {},
   "outputs": [],
   "source": [
    "cal_metadata = experiment.generator.metadata()"
   ]
  },
  {
   "cell_type": "code",
   "execution_count": 16,
   "metadata": {},
   "outputs": [
    {
     "data": {
      "text/plain": [
       "{'generator': 'rabi',\n",
       " 'meas_basis': 'z',\n",
       " 'stimulus.d3.amp': -0.5,\n",
       " 'name': 'rough_amplitude',\n",
       " 'qubits': [3]}"
      ]
     },
     "execution_count": 16,
     "metadata": {},
     "output_type": "execute_result"
    }
   ],
   "source": [
    "cal_metadata[0]"
   ]
  },
  {
   "cell_type": "code",
   "execution_count": 17,
   "metadata": {},
   "outputs": [
    {
     "data": {
      "text/plain": [
       "{'generator': 'rabi',\n",
       " 'meas_basis': 'z',\n",
       " 'stimulus.d3.amp': -0.4666666666666667,\n",
       " 'name': 'rough_amplitude',\n",
       " 'qubits': [3]}"
      ]
     },
     "execution_count": 17,
     "metadata": {},
     "output_type": "execute_result"
    }
   ],
   "source": [
    "cal_metadata[1]"
   ]
  },
  {
   "cell_type": "code",
   "execution_count": 18,
   "metadata": {},
   "outputs": [
    {
     "data": {
      "text/plain": [
       "{'generator': 'rabi',\n",
       " 'meas_basis': 'z',\n",
       " 'stimulus.d3.amp': 0.5,\n",
       " 'name': 'rough_amplitude',\n",
       " 'qubits': [3]}"
      ]
     },
     "execution_count": 18,
     "metadata": {},
     "output_type": "execute_result"
    }
   ],
   "source": [
    "cal_metadata[-1]"
   ]
  },
  {
   "cell_type": "markdown",
   "metadata": {},
   "source": [
    "Check embedded calibration."
   ]
  },
  {
   "cell_type": "code",
   "execution_count": 19,
   "metadata": {},
   "outputs": [
    {
     "data": {
      "text/plain": [
       "{'stimulus': {((3,),\n",
       "   (-0.5,)): Schedule((0, ShiftPhase(0, DriveChannel(3))), (0, ShiftFrequency(0.0, DriveChannel(3))), (0, Play(Drag(duration=160, amp=(-0.5+0j), sigma=40, beta=0), DriveChannel(3), name='stimulus')), (160, ShiftPhase(0, DriveChannel(3))), (160, ShiftFrequency(0.0, DriveChannel(3))), name=\"stimulus\")}}"
      ]
     },
     "execution_count": 19,
     "metadata": {},
     "output_type": "execute_result"
    }
   ],
   "source": [
    "cal_circuits[0].calibrations"
   ]
  },
  {
   "cell_type": "code",
   "execution_count": 20,
   "metadata": {},
   "outputs": [
    {
     "data": {
      "text/plain": [
       "{'stimulus': {((3,),\n",
       "   (-0.4666666666666667,)): Schedule((0, ShiftPhase(0, DriveChannel(3))), (0, ShiftFrequency(0.0, DriveChannel(3))), (0, Play(Drag(duration=160, amp=(-0.4666666666666667+0j), sigma=40, beta=0), DriveChannel(3), name='stimulus')), (160, ShiftPhase(0, DriveChannel(3))), (160, ShiftFrequency(0.0, DriveChannel(3))), name=\"stimulus\")}}"
      ]
     },
     "execution_count": 20,
     "metadata": {},
     "output_type": "execute_result"
    }
   ],
   "source": [
    "cal_circuits[1].calibrations"
   ]
  },
  {
   "cell_type": "code",
   "execution_count": 21,
   "metadata": {},
   "outputs": [
    {
     "data": {
      "text/plain": [
       "{'stimulus': {((3,),\n",
       "   (0.5,)): Schedule((0, ShiftPhase(0, DriveChannel(3))), (0, ShiftFrequency(0.0, DriveChannel(3))), (0, Play(Drag(duration=160, amp=(0.5+0j), sigma=40, beta=0), DriveChannel(3), name='stimulus')), (160, ShiftPhase(0, DriveChannel(3))), (160, ShiftFrequency(0.0, DriveChannel(3))), name=\"stimulus\")}}"
      ]
     },
     "execution_count": 21,
     "metadata": {},
     "output_type": "execute_result"
    }
   ],
   "source": [
    "cal_circuits[-1].calibrations"
   ]
  },
  {
   "cell_type": "markdown",
   "metadata": {},
   "source": [
    "Check program to submit."
   ]
  },
  {
   "cell_type": "code",
   "execution_count": 22,
   "metadata": {},
   "outputs": [],
   "source": [
    "compiled = experiment.schedules(backend=fake_backend)"
   ]
  },
  {
   "cell_type": "code",
   "execution_count": 23,
   "metadata": {},
   "outputs": [
    {
     "data": {
      "image/png": "[encoded data removed]",
      "text/plain": [
       "<Figure size 1500x750 with 1 Axes>"
      ]
     },
     "execution_count": 23,
     "metadata": {},
     "output_type": "execute_result"
    }
   ],
   "source": [
    "compiled[0].draw(plot_range=(0, 500), channel_scales={qiskit.pulse.DriveChannel(3): 1}, channels=[qiskit.pulse.DriveChannel(3), qiskit.pulse.MeasureChannel(3)], style=qiskit.visualization.SchedStyle(figsize=(10, 5)))"
   ]
  },
  {
   "cell_type": "markdown",
   "metadata": {},
   "source": [
    "The actual experiment class looks like::\n",
    "\n",
    "---\n",
    "```python\n",
    "class RoughAmplitudeCalibration(cal_base.BaseCalibrationExperiment):\n",
    "\n",
    "    # pylint: disable=arguments-differ\n",
    "    def __init__(self,\n",
    "                 table: cal_table.CalibrationDataTable,\n",
    "                 qubit: int,\n",
    "                 amp_vals: np.ndarray,\n",
    "                 analysis: Optional[Analysis] = None,\n",
    "                 job: Optional = None):\n",
    "        entry = types.SingleQubitAtomicPulses.STIM.value\n",
    "\n",
    "        if not table.has(\n",
    "            instruction=entry,\n",
    "            qubits=[qubit]\n",
    "        ):\n",
    "            raise CalExpError('Entry {name} does not exist. '\n",
    "                              'Check your calibration table.'.format(name=entry))\n",
    "\n",
    "        # parametrize table\n",
    "        amp = table.parametrize(\n",
    "            instruction=entry,\n",
    "            qubits=[qubit],\n",
    "            param_name='amp'\n",
    "        )\n",
    "\n",
    "        # setup generator\n",
    "        generator = cal_base.BaseCalibrationGenerator(\n",
    "            cal_name='rough_amplitude',\n",
    "            target_qubits=[qubit],\n",
    "            cal_generator=methods.rabi,\n",
    "            table=table,\n",
    "            meas_basis='z'\n",
    "        )\n",
    "        generator.assign_parameters({amp: amp_vals})\n",
    "\n",
    "        super().__init__(generator=generator, analysis=analysis, job=job)\n",
    "```\n",
    "---\n",
    "\n",
    "Here at the constructor calibration table is parametrized and feed into generator. Parameter handler is used when assigining scanning parameters. You also need to write a function that generates circuits from the calibration table. Note that below function can be reused for experiment of rough frequency scan, i.e. changing scanning parameter from `amp` to `frequency` (TBD).\n",
    "\n",
    "\n",
    "---\n",
    "```python\n",
    "def rabi(\n",
    "        name: str,\n",
    "        table: cal_table.CalibrationDataTable,\n",
    "        target_qubits: List[int],\n",
    "        meas_basis: Optional[str] = 'z') -> types.CalProg:\n",
    "    \"\"\"Generate Rabi circuit.\"\"\"\n",
    "    if len(target_qubits) != 1:\n",
    "        raise CalExpError(\n",
    "            'Invalid number of qubits = {} is specified.'\n",
    "            'This experiment requires 1 qubit.'.format(len(target_qubits)))\n",
    "\n",
    "    with cal_builder.build(name=name,\n",
    "                           qubits=target_qubits,\n",
    "                           table=table,\n",
    "                           meas_basis=meas_basis) as circ:\n",
    "        cal_builder.atomic_gate(name=Insts.STIM.value, qubits=target_qubits)\n",
    "\n",
    "    meta = {\n",
    "        'generator': 'rabi',\n",
    "        'meas_basis': meas_basis\n",
    "    }\n",
    "\n",
    "    return types.CalProg(circuits=[circ], metadata=[meta])\n",
    "```\n",
    "---"
   ]
  },
  {
   "cell_type": "markdown",
   "metadata": {},
   "source": [
    "## TODOs:\n",
    "\n",
    "### Simultaneous calibration:\n",
    "If we have a device with topology 0-1-2-3-4 we can Simultaneously calibrate [0, 2, 4] and [1, 3] without ZZ noise (Without this optimization we cannot calibrate entire device at reasonable queueing cost). To enable this, we need pass-manager like program compiler for generator.\n",
    "### Reference frequency initialization:\n",
    "Each physical channel has reference frequency which is updated on a daily basis. If user calibration sequence has been running across calibration point, this may mess up the calibration result. Thus we need to manage channel frequency with atomic instructions. However, this frequency doesn't belong to the specific entry (in contrast to pulse sideband), thus we need another layer to manage this info.\n",
    "### Calibration table to basis gates:\n",
    "Some calibrations use circuit gate level instruction, i.e. `sdg-H` for Y-basis measuerment. Currently this instruction is compiled with backend default. Thus we need a pass to dynamically update calibration def of basis gates.\n",
    "### Two qubit calibration: \n",
    "The same model can be applied.\n",
    "### Measurement calibration:\n",
    "Need different data model due to acquire instruction.\n",
    "### Analysis module:\n",
    "Import the model from expval module. Perhaps we need to consider the IQ data processing."
   ]
  },
  {
   "cell_type": "code",
   "execution_count": null,
   "metadata": {},
   "outputs": [],
   "source": []
  }
 ],
 "metadata": {
  "kernelspec": {
   "display_name": "Python 3",
   "language": "python",
   "name": "python3"
  },
  "language_info": {
   "codemirror_mode": {
    "name": "ipython",
    "version": 3
   },
   "file_extension": ".py",
   "mimetype": "text/x-python",
   "name": "python",
   "nbconvert_exporter": "python",
   "pygments_lexer": "ipython3",
   "version": "3.7.3"
  }
 },
 "nbformat": 4,
 "nbformat_minor": 4
}
